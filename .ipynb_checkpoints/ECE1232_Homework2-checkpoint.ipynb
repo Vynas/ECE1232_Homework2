{
 "cells": [
  {
   "cell_type": "markdown",
   "metadata": {},
   "source": [
    "# ECE1232 Homework 2 - Mark Jordan"
   ]
  },
  {
   "cell_type": "code",
   "execution_count": 1,
   "metadata": {
    "collapsed": true
   },
   "outputs": [],
   "source": [
    "# This code was written by Mark Jordan\n",
    "# last modified 2/25/2018"
   ]
  },
  {
   "cell_type": "code",
   "execution_count": 2,
   "metadata": {
    "collapsed": false
   },
   "outputs": [],
   "source": [
    "%matplotlib inline\n",
    "import matplotlib.pyplot as plt\n",
    "import numpy as np"
   ]
  },
  {
   "cell_type": "markdown",
   "metadata": {},
   "source": [
    "## Problem 1"
   ]
  },
  {
   "cell_type": "code",
   "execution_count": 3,
   "metadata": {
    "collapsed": false
   },
   "outputs": [
    {
     "name": "stdout",
     "output_type": "stream",
     "text": [
      "n1 (air) = 1\n",
      "n3 (silicon) = 3.5\n",
      "theta40i = 0.6981317007977318\n",
      "theta40t = 0.184701992274\n",
      "theta75i = 1.3089969389957472\n",
      "theta75t = 0.279607910423\n"
     ]
    }
   ],
   "source": [
    "n1 = 1 #air\n",
    "n3 = 3.5 #silicon\n",
    "r_normal = (n1-n3)/(n1+n3)\n",
    "R_normal = r_normal**2\n",
    "theta40i = 40*np.pi/180 #incoming\n",
    "theta40t = np.arcsin((n1/n3)*np.sin(theta40i)) #transmitting\n",
    "theta75i = 75*np.pi/180 #incoming\n",
    "theta75t = np.arcsin((n1/n3)*np.sin(theta75i)) #transmitting\n",
    "print(\"n1 (air) =\", n1)\n",
    "print(\"n3 (silicon) =\", n3)\n",
    "print(\"theta40i =\", theta40i)\n",
    "print(\"theta40t =\", theta40t)\n",
    "print(\"theta75i =\", theta75i)\n",
    "print(\"theta75t =\", theta75t)"
   ]
  },
  {
   "cell_type": "code",
   "execution_count": 4,
   "metadata": {
    "collapsed": false
   },
   "outputs": [],
   "source": [
    "def r_TE(n1,n3,thetai, thetat):\n",
    "    r_te = (n1*np.cos(thetai)-n3*np.cos(thetat))/(n1*np.cos(thetai)+n3*np.cos(thetat))\n",
    "    return r_te"
   ]
  },
  {
   "cell_type": "code",
   "execution_count": 5,
   "metadata": {
    "collapsed": true
   },
   "outputs": [],
   "source": [
    "def r_TM(n1,n3,thetai,thetat):\n",
    "    r_tm = (n1*(1/np.cos(thetai))-n3*(1/np.cos(thetat)))/(n1*(1/np.cos(thetai))+n3*(1/np.cos(thetat)))\n",
    "    return r_tm"
   ]
  },
  {
   "cell_type": "code",
   "execution_count": 232,
   "metadata": {
    "collapsed": true
   },
   "outputs": [],
   "source": [
    "def finding_R(r):\n",
    "    R = np.absolute(r)**2\n",
    "    return R"
   ]
  },
  {
   "cell_type": "code",
   "execution_count": 233,
   "metadata": {
    "collapsed": false
   },
   "outputs": [
    {
     "name": "stdout",
     "output_type": "stream",
     "text": [
      "r_normal = -0.5555555555555556\n",
      "R_normal = 0.308641975308642\n",
      "r_TE for 40 degrees = -0.494702503494\n",
      "r_TE for 75 degrees = -0.790811974446\n",
      "R for 40 degrees TE = 0.244730566963\n",
      "R for 75 degrees TE = 0.625383578927\n"
     ]
    }
   ],
   "source": [
    "print (\"r_normal =\",r_normal)\n",
    "print(\"R_normal =\",R_normal)\n",
    "r_TE40 = r_TE(n1,n3,theta40i,theta40t)\n",
    "print(\"r_TE for 40 degrees =\",r_TE40)\n",
    "#r_TM40 = r_TM(n1,n3,theta40i,theta40t)\n",
    "#print(\"r_TM for 40 degrees =\",r_TM40)\n",
    "r_TE75 = r_TE(n1,n3,theta75i,theta75t)\n",
    "print(\"r_TE for 75 degrees =\",r_TE75)\n",
    "#r_TM75 = r_TM(n1,n3,theta75i,theta75t)\n",
    "#print(\"r_TM for 75 degrees =\",r_TM75)\n",
    "R_40TE = finding_R(r_TE40)\n",
    "print(\"R for 40 degrees TE =\",R_40TE)\n",
    "#R_40TM = finding_R(r_TM40)\n",
    "#print(\"R for 40 degrees TM =\",R_40TM)\n",
    "R_75TE = finding_R(r_TE75)\n",
    "print(\"R for 75 degrees TE =\",R_75TE)\n",
    "#R_75TM = finding_R(r_TM75)\n",
    "#print(\"R for 75 degrees TM =\",R_75TM)"
   ]
  },
  {
   "cell_type": "markdown",
   "metadata": {},
   "source": [
    "## Problem 2"
   ]
  },
  {
   "cell_type": "code",
   "execution_count": 234,
   "metadata": {
    "collapsed": false
   },
   "outputs": [
    {
     "name": "stdout",
     "output_type": "stream",
     "text": [
      "lambda_problem2 (nm) = 5.000000000000001e-07\n",
      "n2 = 1.51829448594\n",
      "d (meters) = 8.2329219501e-08\n",
      "d (nm) = 82.329219501\n"
     ]
    }
   ],
   "source": [
    "lambda_problem2 = 500*10**(-9)\n",
    "print(\"lambda_problem2 (nm) =\",lambda_problem2)\n",
    "n2 = np.sqrt(n1*n3)\n",
    "print(\"n2 =\", n2)\n",
    "d = 0.25*lambda_problem2/n2\n",
    "print(\"d (meters) =\",d)\n",
    "print(\"d (nm) =\", d*10**9)"
   ]
  },
  {
   "cell_type": "markdown",
   "metadata": {},
   "source": [
    "## Problem 3"
   ]
  },
  {
   "cell_type": "code",
   "execution_count": 235,
   "metadata": {
    "collapsed": true
   },
   "outputs": [],
   "source": [
    "def t_TE(n1,n3,thetai, thetat):\n",
    "    t_te = (2*n1*np.cos(thetai))/(n1*np.cos(thetai)+n3*np.cos(thetat))\n",
    "    return t_te\n",
    "def t_TM(n1,n3,thetai, thetat):\n",
    "    t_tm = (2*n1*(1/np.cos(thetat)))/(n1*(1/np.cos(thetai))+n3*(1/np.cos(thetat)))\n",
    "    return t_tm"
   ]
  },
  {
   "cell_type": "code",
   "execution_count": 236,
   "metadata": {
    "collapsed": false
   },
   "outputs": [
    {
     "name": "stdout",
     "output_type": "stream",
     "text": [
      "t_normal = 0.794188293374\n",
      "t_TE for 40 degrees = 0.67836138537\n",
      "t_TE for 75 degrees = 0.301276666944\n"
     ]
    }
   ],
   "source": [
    "t_normal = 2*n1/(n1+n2)\n",
    "print(\"t_normal =\",t_normal)\n",
    "t_TE40 = t_TE(n1,n2,theta40i,theta40t)\n",
    "print(\"t_TE for 40 degrees =\",t_TE40)\n",
    "#t_TM40 = t_TM(n1,n2,theta40i,theta40t)\n",
    "#print(\"t_TM for 40 degrees =\",t_TM40)\n",
    "t_TE75 = t_TE(n1,n2,theta75i,theta75t)\n",
    "print(\"t_TE for 75 degrees =\",t_TE75)\n",
    "#t_TM75 = t_TM(n1,n2,theta75i,theta75t)\n",
    "#print(\"t_TM for 75 degrees =\",t_TM75)"
   ]
  },
  {
   "cell_type": "code",
   "execution_count": 237,
   "metadata": {
    "collapsed": false
   },
   "outputs": [],
   "source": [
    "def Matrix12(r,t):\n",
    "    M12 = (1/t)*np.array([[1,r],[r,1]])\n",
    "    return M12\n",
    "def Matrix2_free(phi_z,size_of_array):\n",
    "    j = size_of_array\n",
    "    i = 0\n",
    "    M2_free = np.zeros(j, dtype=object)\n",
    "    #print(\"M2_free\",M2_free)\n",
    "    while i < j:\n",
    "        M2_free[i] = np.array([[np.exp(phi_z[i]*1j),0],[0,np.exp(phi_z[i]*(-1j))]])\n",
    "        i+=1\n",
    "    #M2_free = np.array([[np.exp(phi_z*1j),0],[0,np.exp(phi_z*(-1j))]])\n",
    "    return M2_free\n",
    "def phi_z(n,d,theta,lambda_wavelength):\n",
    "    phi = 2*np.pi*n*d*np.cos(theta)/lambda_wavelength\n",
    "    return phi"
   ]
  },
  {
   "cell_type": "code",
   "execution_count": 238,
   "metadata": {
    "collapsed": true
   },
   "outputs": [],
   "source": [
    "theta40_air = 40*np.pi/180 \n",
    "theta40_coating = np.arcsin((n1/n2)*np.sin(theta40_air)) \n",
    "theta40_silicon = np.arcsin((n2/n3)*np.sin(theta40_coating)) \n",
    "theta75_air = 75*np.pi/180 \n",
    "theta75_coating = np.arcsin((n1/n2)*np.sin(theta75_air)) \n",
    "theta75_silicon = np.arcsin((n2/n3)*np.sin(theta75_coating)) "
   ]
  },
  {
   "cell_type": "code",
   "execution_count": 239,
   "metadata": {
    "collapsed": false
   },
   "outputs": [],
   "source": [
    "r_TE40air_to_coating = r_TE(n1,n2,theta40_air, theta40_coating)\n",
    "r_TE40coating_to_silicon = r_TE(n2,n3,theta40_coating, theta40_silicon)\n",
    "t_TE40air_to_coating = t_TE(n1,n2,theta40_air, theta40_coating)\n",
    "t_TE40coating_to_silicon = t_TE(n2,n3,theta40_coating, theta40_silicon)"
   ]
  },
  {
   "cell_type": "code",
   "execution_count": 240,
   "metadata": {
    "collapsed": false
   },
   "outputs": [],
   "source": [
    "M12_TE40 = Matrix12(r_TE40air_to_coating,t_TE40air_to_coating)\n",
    "#print(\"M12_TE40 = \",M12_TE40)\n",
    "size_of_array = 100\n",
    "wavelength = np.linspace(200*10**-9,1000*10**-9,size_of_array)\n",
    "#print(\"wavelength\",wavelength)\n",
    "#print(\"wavelength =\", wavelength)\n",
    "phi_z_40 = phi_z(n2,d,theta40_coating,wavelength)\n",
    "#print(\"phi_z_40 =\", phi_z_40)\n",
    "M2_TE40 = Matrix2_free(phi_z_40,size_of_array)\n",
    "#print(\"M2_TE40 =\",M2_TE40)\n",
    "M23_TE40 = Matrix12(r_TE40coating_to_silicon,t_TE40coating_to_silicon)\n",
    "#print(\"M23_TE40 =\",M23_TE40)"
   ]
  },
  {
   "cell_type": "code",
   "execution_count": 241,
   "metadata": {
    "collapsed": false
   },
   "outputs": [],
   "source": [
    "j = size_of_array\n",
    "i = 0\n",
    "New_M122_40 = np.zeros(j, dtype=object)\n",
    "while i < j:\n",
    "    New_M122_40[i] = np.dot(M12_TE40,M2_TE40[i])\n",
    "    i+=1\n",
    "#print(\"New_M122\",New_M122[2])"
   ]
  },
  {
   "cell_type": "code",
   "execution_count": 242,
   "metadata": {
    "collapsed": false
   },
   "outputs": [],
   "source": [
    "j = size_of_array\n",
    "i = 0\n",
    "New_M12223_40 = np.zeros(j, dtype=object)\n",
    "while i < j:\n",
    "    New_M12223_40[i] = np.dot(New_M122_40[i],M23_TE40)\n",
    "    i+=1\n",
    "#print(\"New_M12223\",New_M12223[0])"
   ]
  },
  {
   "cell_type": "code",
   "execution_count": 243,
   "metadata": {
    "collapsed": false
   },
   "outputs": [],
   "source": [
    "j = size_of_array\n",
    "i = 0\n",
    "r_40_TE = np.zeros(j, dtype=object)\n",
    "R_40_TE = np.zeros(j, dtype=object)\n",
    "while i < j:\n",
    "    r_40_TE[i] = New_M12223_40[i][1][0]/New_M12223_40[i][0][0]\n",
    "    R_40_TE[i] = (np.absolute(r_40_TE[i]))**2\n",
    "    i+=1\n",
    "#print(r_40_TE)\n",
    "#print(R_40_TE)"
   ]
  },
  {
   "cell_type": "code",
   "execution_count": 244,
   "metadata": {
    "collapsed": false
   },
   "outputs": [
    {
     "data": {
      "text/plain": [
       "<matplotlib.text.Text at 0x70050050f0>"
      ]
     },
     "execution_count": 244,
     "metadata": {},
     "output_type": "execute_result"
    },
    {
     "data": {
      "image/png": "[encoded data removed]",
      "text/plain": [
       "<matplotlib.figure.Figure at 0x7004f81278>"
      ]
     },
     "metadata": {},
     "output_type": "display_data"
    }
   ],
   "source": [
    "plt.plot(wavelength, R_40_TE)\n",
    "plt.xlabel(\"wavelength (m)\")\n",
    "plt.ylabel(\"R\")\n",
    "plt.title(\"40 degrees\")"
   ]
  },
  {
   "cell_type": "code",
   "execution_count": 245,
   "metadata": {
    "collapsed": true
   },
   "outputs": [],
   "source": [
    "r_TE75air_to_coating = r_TE(n1,n2,theta75_air, theta75_coating)\n",
    "r_TE75coating_to_silicon = r_TE(n2,n3,theta75_coating, theta75_silicon)\n",
    "t_TE75air_to_coating = t_TE(n1,n2,theta75_air, theta75_coating)\n",
    "t_TE75coating_to_silicon = t_TE(n2,n3,theta75_coating, theta75_silicon)"
   ]
  },
  {
   "cell_type": "code",
   "execution_count": 246,
   "metadata": {
    "collapsed": false
   },
   "outputs": [],
   "source": [
    "M12_TE75 = Matrix12(r_TE75air_to_coating,t_TE75air_to_coating)\n",
    "#print(\"M12_TE40 = \",M12_TE40)\n",
    "size_of_array = 100\n",
    "wavelength = np.linspace(200*10**-9,1000*10**-9,size_of_array)\n",
    "#print(\"wavelength\",wavelength)\n",
    "#print(\"wavelength =\", wavelength)\n",
    "phi_z_75 = phi_z(n2,d,theta75_coating,wavelength)\n",
    "#print(\"phi_z_40 =\", phi_z_40)\n",
    "M2_TE75 = Matrix2_free(phi_z_75,size_of_array)\n",
    "#print(\"M2_TE40 =\",M2_TE40)\n",
    "M23_TE75 = Matrix12(r_TE75coating_to_silicon,t_TE75coating_to_silicon)\n",
    "#print(\"M23_TE40 =\",M23_TE40)"
   ]
  },
  {
   "cell_type": "code",
   "execution_count": 247,
   "metadata": {
    "collapsed": true
   },
   "outputs": [],
   "source": [
    "j = size_of_array\n",
    "i = 0\n",
    "New_M122_75 = np.zeros(j, dtype=object)\n",
    "while i < j:\n",
    "    New_M122_75[i] = np.dot(M12_TE75,M2_TE75[i])\n",
    "    i+=1\n",
    "#print(\"New_M122\",New_M122[2])"
   ]
  },
  {
   "cell_type": "code",
   "execution_count": 248,
   "metadata": {
    "collapsed": false
   },
   "outputs": [],
   "source": [
    "j = size_of_array\n",
    "i = 0\n",
    "New_M12223_75 = np.zeros(j, dtype=object)\n",
    "while i < j:\n",
    "    New_M12223_75[i] = np.dot(New_M122_75[i],M23_TE75)\n",
    "    i+=1\n",
    "#print(\"New_M12223\",New_M12223[0])"
   ]
  },
  {
   "cell_type": "code",
   "execution_count": 249,
   "metadata": {
    "collapsed": true
   },
   "outputs": [],
   "source": [
    "j = size_of_array\n",
    "i = 0\n",
    "r_75_TE = np.zeros(j, dtype=object)\n",
    "R_75_TE = np.zeros(j, dtype=object)\n",
    "while i < j:\n",
    "    r_75_TE[i] = New_M12223_75[i][1][0]/New_M12223_75[i][0][0]\n",
    "    R_75_TE[i] = (np.absolute(r_75_TE[i]))**2\n",
    "    i+=1\n",
    "#print(r_40_TE)\n",
    "#print(R_40_TE)"
   ]
  },
  {
   "cell_type": "code",
   "execution_count": 250,
   "metadata": {
    "collapsed": false
   },
   "outputs": [
    {
     "data": {
      "text/plain": [
       "<matplotlib.text.Text at 0x70050617b8>"
      ]
     },
     "execution_count": 250,
     "metadata": {},
     "output_type": "execute_result"
    },
    {
     "data": {
      "image/png": "[encoded data removed]",
      "text/plain": [
       "<matplotlib.figure.Figure at 0x7004f4b048>"
      ]
     },
     "metadata": {},
     "output_type": "display_data"
    }
   ],
   "source": [
    "plt.plot(wavelength, R_75_TE)\n",
    "plt.xlabel(\"wavelength (m)\")\n",
    "plt.ylabel(\"R\")\n",
    "plt.title(\"75 degrees\")"
   ]
  },
  {
   "cell_type": "code",
   "execution_count": 251,
   "metadata": {
    "collapsed": true
   },
   "outputs": [],
   "source": [
    "theta_N__air = 0\n",
    "theta_N__coating = np.arcsin((n1/n2)*np.sin(theta_N__air)) \n",
    "theta_N__silicon = np.arcsin((n2/n3)*np.sin(theta_N__coating)) "
   ]
  },
  {
   "cell_type": "code",
   "execution_count": 252,
   "metadata": {
    "collapsed": false
   },
   "outputs": [],
   "source": [
    "r_TE_N_air_to_coating = r_TE(n1,n2,theta_N__air, theta_N__coating)\n",
    "r_TE_N_coating_to_silicon = r_TE(n2,n3,theta_N__coating, theta_N__silicon)\n",
    "t_TE_N_air_to_coating = t_TE(n1,n2,theta_N__air, theta_N__coating)\n",
    "t_TE_N_coating_to_silicon = t_TE(n2,n3,theta_N__coating, theta_N__silicon)"
   ]
  },
  {
   "cell_type": "code",
   "execution_count": 253,
   "metadata": {
    "collapsed": true
   },
   "outputs": [],
   "source": [
    "M12_TE_N_ = Matrix12(r_TE_N_air_to_coating,t_TE_N_air_to_coating)\n",
    "#print(\"M12_TE40 = \",M12_TE40)\n",
    "size_of_array = 100\n",
    "wavelength = np.linspace(200*10**-9,1000*10**-9,size_of_array)\n",
    "#print(\"wavelength\",wavelength)\n",
    "#print(\"wavelength =\", wavelength)\n",
    "phi_z__N_ = phi_z(n2,d,theta_N__coating,wavelength)\n",
    "#print(\"phi_z_40 =\", phi_z_40)\n",
    "M2_TE_N_ = Matrix2_free(phi_z__N_,size_of_array)\n",
    "#print(\"M2_TE40 =\",M2_TE40)\n",
    "M23_TE_N_ = Matrix12(r_TE_N_coating_to_silicon,t_TE_N_coating_to_silicon)\n",
    "#print(\"M23_TE40 =\",M23_TE40)"
   ]
  },
  {
   "cell_type": "code",
   "execution_count": 254,
   "metadata": {
    "collapsed": true
   },
   "outputs": [],
   "source": [
    "j = size_of_array\n",
    "i = 0\n",
    "New_M122__N_ = np.zeros(j, dtype=object)\n",
    "while i < j:\n",
    "    New_M122__N_[i] = np.dot(M12_TE_N_,M2_TE_N_[i])\n",
    "    i+=1\n",
    "#print(\"New_M122\",New_M122[2])"
   ]
  },
  {
   "cell_type": "code",
   "execution_count": 255,
   "metadata": {
    "collapsed": true
   },
   "outputs": [],
   "source": [
    "j = size_of_array\n",
    "i = 0\n",
    "New_M12223__N_ = np.zeros(j, dtype=object)\n",
    "while i < j:\n",
    "    New_M12223__N_[i] = np.dot(New_M122__N_[i],M23_TE_N_)\n",
    "    i+=1\n",
    "#print(\"New_M12223\",New_M12223[0])"
   ]
  },
  {
   "cell_type": "code",
   "execution_count": 256,
   "metadata": {
    "collapsed": true
   },
   "outputs": [],
   "source": [
    "j = size_of_array\n",
    "i = 0\n",
    "r__N__TE = np.zeros(j, dtype=object)\n",
    "R__N__TE = np.zeros(j, dtype=object)\n",
    "while i < j:\n",
    "    r__N__TE[i] = New_M12223__N_[i][1][0]/New_M12223__N_[i][0][0]\n",
    "    R__N__TE[i] = (np.absolute(r__N__TE[i]))**2\n",
    "    i+=1\n",
    "#print(r_40_TE)\n",
    "#print(R_40_TE)"
   ]
  },
  {
   "cell_type": "code",
   "execution_count": 257,
   "metadata": {
    "collapsed": false
   },
   "outputs": [
    {
     "data": {
      "text/plain": [
       "<matplotlib.text.Text at 0x70050ca3c8>"
      ]
     },
     "execution_count": 257,
     "metadata": {},
     "output_type": "execute_result"
    },
    {
     "data": {
      "image/png": "[encoded data removed]",
      "text/plain": [
       "<matplotlib.figure.Figure at 0x7005029320>"
      ]
     },
     "metadata": {},
     "output_type": "display_data"
    }
   ],
   "source": [
    "plt.plot(wavelength, R__N__TE)\n",
    "plt.xlabel(\"wavelength (m)\")\n",
    "plt.ylabel(\"R\")\n",
    "plt.title(\"0 degrees\")"
   ]
  },
  {
   "cell_type": "code",
   "execution_count": 258,
   "metadata": {
    "collapsed": false
   },
   "outputs": [
    {
     "data": {
      "text/plain": [
       "<matplotlib.text.Text at 0x700512c400>"
      ]
     },
     "execution_count": 258,
     "metadata": {},
     "output_type": "execute_result"
    },
    {
     "data": {
      "image/png": "[encoded data removed]",
      "text/plain": [
       "<matplotlib.figure.Figure at 0x70050f5ef0>"
      ]
     },
     "metadata": {},
     "output_type": "display_data"
    }
   ],
   "source": [
    "plt.plot(wavelength, R__N__TE, color='r', label=\"0 degrees\")\n",
    "plt.plot(wavelength, R_40_TE, color='b', label=\"40 degrees\")\n",
    "plt.plot(wavelength, R_75_TE, color='g', label=\"75 degrees\")\n",
    "plt.xlabel(\"wavelength (m)\")\n",
    "plt.ylabel(\"R\")\n",
    "plt.legend(loc=1)\n",
    "plt.title(\"0, 40, and 75 degrees\")"
   ]
  },
  {
   "cell_type": "markdown",
   "metadata": {},
   "source": [
    "## Problem 4"
   ]
  },
  {
   "cell_type": "code",
   "execution_count": 259,
   "metadata": {
    "collapsed": false
   },
   "outputs": [
    {
     "name": "stdout",
     "output_type": "stream",
     "text": [
      "n2 = 1.5182944859378311\n",
      "n3 = 2.8404688893\n",
      "d2 (meters) = 4.9397531700626223e-08\n",
      "d2 (nm) = 49.397531700626224\n",
      "d3 (meters) = 4.40068188991e-08\n",
      "d3 (nm) = 44.0068188991\n"
     ]
    }
   ],
   "source": [
    "lambda_problem4_a = 300*10**(-9)\n",
    "lambda_problem4_b = 500*10**(-9)\n",
    "#print(\"lambda_problem2 (nm) =\",lambda_problem2)\n",
    "n1 = 1 # air\n",
    "n4 = 3.5 # silicon\n",
    "\n",
    "n2 = ((n1**2)*n4)**(1/3) # second layer (300 nm)\n",
    "# above equation found by using n2 = sqrt(n1*n3) and n3 = sqrt(n2*n4) and solving for n2 in terms of n1 and n4\n",
    "\n",
    "#n3 = np.sqrt(n2*n4)\n",
    "n3 = n2*np.sqrt(n4/n1) # first layer (500 nm)\n",
    "# above equation found at https://www.osapublishing.org/DirectPDFAccess/71118AAB-CE9D-AF1C-450F81750F717829_259560/oe-21-15-18207.pdf?da=1&id=259560&seq=0&mobile=no\n",
    "print(\"n2 =\", n2)\n",
    "print(\"n3 =\", n3)\n",
    "d2 = 0.25*lambda_problem4_a/n2\n",
    "d3 = 0.25*lambda_problem4_b/n3\n",
    "print(\"d2 (meters) =\",d2)\n",
    "print(\"d2 (nm) =\", d2*10**9)\n",
    "print(\"d3 (meters) =\",d3)\n",
    "print(\"d3 (nm) =\", d3*10**9)"
   ]
  },
  {
   "cell_type": "markdown",
   "metadata": {},
   "source": [
    "## Problem 5"
   ]
  },
  {
   "cell_type": "code",
   "execution_count": 260,
   "metadata": {
    "collapsed": true
   },
   "outputs": [],
   "source": [
    "def Matrix12(r,t):\n",
    "    M12 = (1/t)*np.array([[1,r],[r,1]])\n",
    "    return M12\n",
    "def Matrix2_free(phi_z,size_of_array):\n",
    "    j = size_of_array\n",
    "    i = 0\n",
    "    M2_free = np.zeros(j, dtype=object)\n",
    "    #print(\"M2_free\",M2_free)\n",
    "    while i < j:\n",
    "        M2_free[i] = np.array([[np.exp(phi_z[i]*1j),0],[0,np.exp(phi_z[i]*(-1j))]])\n",
    "        i+=1\n",
    "    #M2_free = np.array([[np.exp(phi_z*1j),0],[0,np.exp(phi_z*(-1j))]])\n",
    "    return M2_free\n",
    "def phi_z(n,d,theta,lambda_wavelength):\n",
    "    phi = 2*np.pi*n*d*np.cos(theta)/lambda_wavelength\n",
    "    return phi"
   ]
  },
  {
   "cell_type": "code",
   "execution_count": 261,
   "metadata": {
    "collapsed": true
   },
   "outputs": [],
   "source": [
    "theta40_air = 40*np.pi/180 \n",
    "theta40_coating1 = np.arcsin((n1/n2)*np.sin(theta40_air)) \n",
    "theta40_coating2 = np.arcsin((n2/n3)*np.sin(theta40_coating1)) \n",
    "theta40_silicon = np.arcsin((n3/n4)*np.sin(theta40_coating2)) \n",
    "theta75_air = 75*np.pi/180 \n",
    "theta75_coating1 = np.arcsin((n1/n2)*np.sin(theta75_air)) \n",
    "theta75_coating2 = np.arcsin((n2/n3)*np.sin(theta75_coating1)) \n",
    "theta75_silicon = np.arcsin((n3/n4)*np.sin(theta75_coating2)) "
   ]
  },
  {
   "cell_type": "code",
   "execution_count": 262,
   "metadata": {
    "collapsed": true
   },
   "outputs": [],
   "source": [
    "theta_N__air = 0\n",
    "theta_N__coating1 = np.arcsin((n1/n2)*np.sin(theta_N__air)) \n",
    "theta_N__coating2 = np.arcsin((n2/n3)*np.sin(theta_N__coating1)) \n",
    "theta_N__silicon = np.arcsin((n3/n4)*np.sin(theta_N__coating2)) "
   ]
  },
  {
   "cell_type": "code",
   "execution_count": 263,
   "metadata": {
    "collapsed": true
   },
   "outputs": [],
   "source": [
    "r_TE40air_to_coating1 = r_TE(n1,n2,theta40_air, theta40_coating1)\n",
    "r_TE40coating1_to_coating2 = r_TE(n2,n3,theta40_coating1, theta40_coating2)\n",
    "r_TE40coating2_to_silicon = r_TE(n2,n3,theta40_coating2, theta40_silicon)\n",
    "t_TE40air_to_coating1 = t_TE(n1,n2,theta40_air, theta40_coating1)\n",
    "t_TE40coating1_to_coating2 = t_TE(n2,n3,theta40_coating1, theta40_coating2)\n",
    "t_TE40coating2_to_silicon = t_TE(n2,n3,theta40_coating, theta40_silicon)"
   ]
  },
  {
   "cell_type": "code",
   "execution_count": 264,
   "metadata": {
    "collapsed": true
   },
   "outputs": [],
   "source": [
    "r_TE75air_to_coating1 = r_TE(n1,n2,theta75_air, theta75_coating1)\n",
    "r_TE75coating1_to_coating2 = r_TE(n2,n3,theta75_coating1, theta75_coating2)\n",
    "r_TE75coating2_to_silicon = r_TE(n2,n3,theta75_coating2, theta75_silicon)\n",
    "t_TE75air_to_coating1 = t_TE(n1,n2,theta75_air, theta75_coating1)\n",
    "t_TE75coating1_to_coating2 = t_TE(n2,n3,theta75_coating1, theta75_coating2)\n",
    "t_TE75coating2_to_silicon = t_TE(n2,n3,theta75_coating, theta75_silicon)"
   ]
  },
  {
   "cell_type": "code",
   "execution_count": 265,
   "metadata": {
    "collapsed": true
   },
   "outputs": [],
   "source": [
    "r_TE_N_air_to_coating1 = r_TE(n1,n2,theta_N__air, theta_N__coating1)\n",
    "r_TE_N_coating1_to_coating2 = r_TE(n1,n2,theta_N__coating1, theta_N__coating2)\n",
    "r_TE_N_coating2_to_silicon = r_TE(n2,n3,theta_N__coating2, theta_N__silicon)\n",
    "t_TE_N_air_to_coating1 = t_TE(n1,n2,theta_N__air, theta_N__coating1)\n",
    "t_TE_N_coating1_to_coating2 = t_TE(n1,n2,theta_N__coating1, theta_N__coating2)\n",
    "t_TE_N_coating2_to_silicon = t_TE(n2,n3,theta_N__coating2, theta_N__silicon)"
   ]
  },
  {
   "cell_type": "code",
   "execution_count": 266,
   "metadata": {
    "collapsed": false
   },
   "outputs": [],
   "source": [
    "M12_TE40 = Matrix12(r_TE40air_to_coating1,t_TE40air_to_coating1)\n",
    "#print(\"M12_TE40 = \",M12_TE40)\n",
    "size_of_array = 100\n",
    "wavelength = np.linspace(200*10**-9,1000*10**-9,size_of_array)\n",
    "#print(\"wavelength\",wavelength)\n",
    "#print(\"wavelength =\", wavelength)\n",
    "phi_z_40_a = phi_z(n2,d,theta40_coating1,wavelength)\n",
    "#print(\"phi_z_40 =\", phi_z_40)\n",
    "M2_TE40 = Matrix2_free(phi_z_40_a,size_of_array)\n",
    "#print(\"M2_TE40 =\",M2_TE40)\n",
    "M23_TE40 = Matrix12(r_TE40coating1_to_coating2,t_TE40coating1_to_coating2)\n",
    "#print(\"M23_TE40 =\",M23_TE40)\n",
    "phi_z_40_b = phi_z(n2,d,theta40_coating2,wavelength)\n",
    "M3_TE40 = Matrix2_free(phi_z_40_b,size_of_array)\n",
    "M34_TE40 = Matrix12(r_TE40coating2_to_silicon,t_TE40coating2_to_silicon)"
   ]
  },
  {
   "cell_type": "code",
   "execution_count": 267,
   "metadata": {
    "collapsed": true
   },
   "outputs": [],
   "source": [
    "j = size_of_array\n",
    "i = 0\n",
    "New_M122_40 = np.zeros(j, dtype=object)\n",
    "while i < j:\n",
    "    New_M122_40[i] = np.dot(M12_TE40,M2_TE40[i])\n",
    "    i+=1\n",
    "#print(\"New_M122\",New_M122[2])"
   ]
  },
  {
   "cell_type": "code",
   "execution_count": 268,
   "metadata": {
    "collapsed": true
   },
   "outputs": [],
   "source": [
    "j = size_of_array\n",
    "i = 0\n",
    "New_M12223_40 = np.zeros(j, dtype=object)\n",
    "while i < j:\n",
    "    New_M12223_40[i] = np.dot(New_M122_40[i],M23_TE40)\n",
    "    i+=1\n",
    "#print(\"New_M12223\",New_M12223[0])"
   ]
  },
  {
   "cell_type": "code",
   "execution_count": 269,
   "metadata": {
    "collapsed": false
   },
   "outputs": [],
   "source": [
    "j = size_of_array\n",
    "i = 0\n",
    "New_M122233_40 = np.zeros(j, dtype=object)\n",
    "while i < j:\n",
    "    New_M122233_40[i] = np.dot(New_M12223_40[i],M3_TE40[i])\n",
    "    i+=1\n",
    "#print(\"New_M12223\",New_M12223[0])"
   ]
  },
  {
   "cell_type": "code",
   "execution_count": 270,
   "metadata": {
    "collapsed": true
   },
   "outputs": [],
   "source": [
    "j = size_of_array\n",
    "i = 0\n",
    "New_M12223334_40 = np.zeros(j, dtype=object)\n",
    "while i < j:\n",
    "    New_M12223334_40[i] = np.dot(New_M122233_40[i],M34_TE40)\n",
    "    i+=1\n",
    "#print(\"New_M12223\",New_M12223[0])"
   ]
  },
  {
   "cell_type": "code",
   "execution_count": 271,
   "metadata": {
    "collapsed": true
   },
   "outputs": [],
   "source": [
    "j = size_of_array\n",
    "i = 0\n",
    "r_40_TE = np.zeros(j, dtype=object)\n",
    "R_40_TE = np.zeros(j, dtype=object)\n",
    "while i < j:\n",
    "    r_40_TE[i] = New_M12223334_40[i][1][0]/New_M12223334_40[i][0][0]\n",
    "    R_40_TE[i] = (np.absolute(r_40_TE[i]))**2\n",
    "    i+=1\n",
    "#print(r_40_TE)\n",
    "#print(R_40_TE)"
   ]
  },
  {
   "cell_type": "code",
   "execution_count": 272,
   "metadata": {
    "collapsed": false
   },
   "outputs": [
    {
     "data": {
      "text/plain": [
       "<matplotlib.text.Text at 0x70051acd68>"
      ]
     },
     "execution_count": 272,
     "metadata": {},
     "output_type": "execute_result"
    },
    {
     "data": {
      "image/png": "[encoded data removed]",
      "text/plain": [
       "<matplotlib.figure.Figure at 0x70050ba128>"
      ]
     },
     "metadata": {},
     "output_type": "display_data"
    }
   ],
   "source": [
    "plt.plot(wavelength, R_40_TE)\n",
    "plt.xlabel(\"wavelength (m)\")\n",
    "plt.ylabel(\"R\")\n",
    "plt.title(\"40 degrees\")"
   ]
  },
  {
   "cell_type": "code",
   "execution_count": 273,
   "metadata": {
    "collapsed": true
   },
   "outputs": [],
   "source": [
    "M12_TE75 = Matrix12(r_TE75air_to_coating1,t_TE75air_to_coating1)\n",
    "#print(\"M12_TE40 = \",M12_TE40)\n",
    "size_of_array = 100\n",
    "wavelength = np.linspace(200*10**-9,1000*10**-9,size_of_array)\n",
    "#print(\"wavelength\",wavelength)\n",
    "#print(\"wavelength =\", wavelength)\n",
    "phi_z_75_a = phi_z(n2,d,theta75_coating1,wavelength)\n",
    "#print(\"phi_z_40 =\", phi_z_40)\n",
    "M2_TE75 = Matrix2_free(phi_z_75_a,size_of_array)\n",
    "#print(\"M2_TE40 =\",M2_TE40)\n",
    "M23_TE75 = Matrix12(r_TE75coating1_to_coating2,t_TE75coating1_to_coating2)\n",
    "#print(\"M23_TE40 =\",M23_TE40)\n",
    "phi_z_75_b = phi_z(n2,d,theta75_coating2,wavelength)\n",
    "M3_TE75 = Matrix2_free(phi_z_75_b,size_of_array)\n",
    "M34_TE75 = Matrix12(r_TE75coating2_to_silicon,t_TE75coating2_to_silicon)"
   ]
  },
  {
   "cell_type": "code",
   "execution_count": 274,
   "metadata": {
    "collapsed": true
   },
   "outputs": [],
   "source": [
    "j = size_of_array\n",
    "i = 0\n",
    "New_M122_75 = np.zeros(j, dtype=object)\n",
    "while i < j:\n",
    "    New_M122_75[i] = np.dot(M12_TE75,M2_TE75[i])\n",
    "    i+=1\n",
    "#print(\"New_M122\",New_M122[2])"
   ]
  },
  {
   "cell_type": "code",
   "execution_count": 275,
   "metadata": {
    "collapsed": true
   },
   "outputs": [],
   "source": [
    "j = size_of_array\n",
    "i = 0\n",
    "New_M12223_75 = np.zeros(j, dtype=object)\n",
    "while i < j:\n",
    "    New_M12223_75[i] = np.dot(New_M122_75[i],M23_TE75)\n",
    "    i+=1\n",
    "#print(\"New_M12223\",New_M12223[0])"
   ]
  },
  {
   "cell_type": "code",
   "execution_count": 276,
   "metadata": {
    "collapsed": true
   },
   "outputs": [],
   "source": [
    "j = size_of_array\n",
    "i = 0\n",
    "New_M122233_75 = np.zeros(j, dtype=object)\n",
    "while i < j:\n",
    "    New_M122233_75[i] = np.dot(New_M12223_75[i],M3_TE75[i])\n",
    "    i+=1\n",
    "#print(\"New_M12223\",New_M12223[0])"
   ]
  },
  {
   "cell_type": "code",
   "execution_count": 277,
   "metadata": {
    "collapsed": true
   },
   "outputs": [],
   "source": [
    "j = size_of_array\n",
    "i = 0\n",
    "New_M12223334_75 = np.zeros(j, dtype=object)\n",
    "while i < j:\n",
    "    New_M12223334_75[i] = np.dot(New_M122233_75[i],M34_TE75)\n",
    "    i+=1\n",
    "#print(\"New_M12223\",New_M12223[0])"
   ]
  },
  {
   "cell_type": "code",
   "execution_count": 278,
   "metadata": {
    "collapsed": true
   },
   "outputs": [],
   "source": [
    "j = size_of_array\n",
    "i = 0\n",
    "r_75_TE = np.zeros(j, dtype=object)\n",
    "R_75_TE = np.zeros(j, dtype=object)\n",
    "while i < j:\n",
    "    r_75_TE[i] = New_M12223334_75[i][1][0]/New_M12223334_75[i][0][0]\n",
    "    R_75_TE[i] = (np.absolute(r_75_TE[i]))**2\n",
    "    i+=1\n",
    "#print(r_40_TE)\n",
    "#print(R_40_TE)"
   ]
  },
  {
   "cell_type": "code",
   "execution_count": 279,
   "metadata": {
    "collapsed": false
   },
   "outputs": [
    {
     "data": {
      "text/plain": [
       "<matplotlib.text.Text at 0x700520cb70>"
      ]
     },
     "execution_count": 279,
     "metadata": {},
     "output_type": "execute_result"
    },
    {
     "data": {
      "image/png": "[encoded data removed]",
      "text/plain": [
       "<matplotlib.figure.Figure at 0x7005186e48>"
      ]
     },
     "metadata": {},
     "output_type": "display_data"
    }
   ],
   "source": [
    "plt.plot(wavelength, R_75_TE)\n",
    "plt.xlabel(\"wavelength (m)\")\n",
    "plt.ylabel(\"R\")\n",
    "plt.title(\"75 degrees\")"
   ]
  },
  {
   "cell_type": "code",
   "execution_count": 280,
   "metadata": {
    "collapsed": true
   },
   "outputs": [],
   "source": [
    "M12_TE_N_ = Matrix12(r_TE_N_air_to_coating1,t_TE_N_air_to_coating1)\n",
    "#print(\"M12_TE40 = \",M12_TE40)\n",
    "size_of_array = 100\n",
    "wavelength = np.linspace(200*10**-9,1000*10**-9,size_of_array)\n",
    "#print(\"wavelength\",wavelength)\n",
    "#print(\"wavelength =\", wavelength)\n",
    "phi_z__N__a = phi_z(n2,d,theta_N__coating1,wavelength)\n",
    "#print(\"phi_z_40 =\", phi_z_40)\n",
    "M2_TE_N_ = Matrix2_free(phi_z__N__a,size_of_array)\n",
    "#print(\"M2_TE40 =\",M2_TE40)\n",
    "M23_TE_N_ = Matrix12(r_TE_N_coating1_to_coating2,t_TE_N_coating1_to_coating2)\n",
    "#print(\"M23_TE40 =\",M23_TE40)\n",
    "phi_z__N__b = phi_z(n2,d,theta_N__coating2,wavelength)\n",
    "M3_TE_N_ = Matrix2_free(phi_z__N__b,size_of_array)\n",
    "M34_TE_N_ = Matrix12(r_TE_N_coating2_to_silicon,t_TE_N_coating2_to_silicon)"
   ]
  },
  {
   "cell_type": "code",
   "execution_count": 281,
   "metadata": {
    "collapsed": true
   },
   "outputs": [],
   "source": [
    "j = size_of_array\n",
    "i = 0\n",
    "New_M122__N_ = np.zeros(j, dtype=object)\n",
    "while i < j:\n",
    "    New_M122__N_[i] = np.dot(M12_TE_N_,M2_TE_N_[i])\n",
    "    i+=1\n",
    "#print(\"New_M122\",New_M122[2])"
   ]
  },
  {
   "cell_type": "code",
   "execution_count": 282,
   "metadata": {
    "collapsed": true
   },
   "outputs": [],
   "source": [
    "j = size_of_array\n",
    "i = 0\n",
    "New_M12223__N_ = np.zeros(j, dtype=object)\n",
    "while i < j:\n",
    "    New_M12223__N_[i] = np.dot(New_M122__N_[i],M23_TE_N_)\n",
    "    i+=1\n",
    "#print(\"New_M12223\",New_M12223[0])"
   ]
  },
  {
   "cell_type": "code",
   "execution_count": 283,
   "metadata": {
    "collapsed": true
   },
   "outputs": [],
   "source": [
    "j = size_of_array\n",
    "i = 0\n",
    "New_M122233__N_ = np.zeros(j, dtype=object)\n",
    "while i < j:\n",
    "    New_M122233__N_[i] = np.dot(New_M12223__N_[i],M3_TE_N_[i])\n",
    "    i+=1\n",
    "#print(\"New_M12223\",New_M12223[0])"
   ]
  },
  {
   "cell_type": "code",
   "execution_count": 284,
   "metadata": {
    "collapsed": true
   },
   "outputs": [],
   "source": [
    "j = size_of_array\n",
    "i = 0\n",
    "New_M12223334__N_ = np.zeros(j, dtype=object)\n",
    "while i < j:\n",
    "    New_M12223334__N_[i] = np.dot(New_M122233__N_[i],M34_TE_N_)\n",
    "    i+=1\n",
    "#print(\"New_M12223\",New_M12223[0])"
   ]
  },
  {
   "cell_type": "code",
   "execution_count": 285,
   "metadata": {
    "collapsed": true
   },
   "outputs": [],
   "source": [
    "j = size_of_array\n",
    "i = 0\n",
    "r__N__TE = np.zeros(j, dtype=object)\n",
    "R__N__TE = np.zeros(j, dtype=object)\n",
    "while i < j:\n",
    "    r__N__TE[i] = New_M12223334__N_[i][1][0]/New_M12223334__N_[i][0][0]\n",
    "    R__N__TE[i] = (np.absolute(r__N__TE[i]))**2\n",
    "    i+=1\n",
    "#print(r_40_TE)\n",
    "#print(R_40_TE)"
   ]
  },
  {
   "cell_type": "code",
   "execution_count": 286,
   "metadata": {
    "collapsed": false
   },
   "outputs": [
    {
     "data": {
      "text/plain": [
       "<matplotlib.text.Text at 0x70052798d0>"
      ]
     },
     "execution_count": 286,
     "metadata": {},
     "output_type": "execute_result"
    },
    {
     "data": {
      "image/png": "[encoded data removed]",
      "text/plain": [
       "<matplotlib.figure.Figure at 0x700522b390>"
      ]
     },
     "metadata": {},
     "output_type": "display_data"
    }
   ],
   "source": [
    "plt.plot(wavelength, R__N__TE)\n",
    "plt.xlabel(\"wavelength (m)\")\n",
    "plt.ylabel(\"R\")\n",
    "plt.title(\"0 degrees\")"
   ]
  },
  {
   "cell_type": "code",
   "execution_count": 287,
   "metadata": {
    "collapsed": false
   },
   "outputs": [
    {
     "data": {
      "text/plain": [
       "<matplotlib.text.Text at 0x70052e06d8>"
      ]
     },
     "execution_count": 287,
     "metadata": {},
     "output_type": "execute_result"
    },
    {
     "data": {
      "image/png": "[encoded data removed]",
      "text/plain": [
       "<matplotlib.figure.Figure at 0x700526f710>"
      ]
     },
     "metadata": {},
     "output_type": "display_data"
    }
   ],
   "source": [
    "plt.plot(wavelength, R__N__TE, color='r', label=\"0 degrees\")\n",
    "plt.plot(wavelength, R_40_TE, color='b', label=\"40 degrees\")\n",
    "plt.plot(wavelength, R_75_TE, color='g', label=\"75 degrees\")\n",
    "plt.xlabel(\"wavelength (m)\")\n",
    "plt.ylabel(\"R\")\n",
    "plt.legend(loc=1)\n",
    "plt.title(\"0, 40, and 75 degrees\")"
   ]
  },
  {
   "cell_type": "code",
   "execution_count": null,
   "metadata": {
    "collapsed": true
   },
   "outputs": [],
   "source": []
  },
  {
   "cell_type": "code",
   "execution_count": null,
   "metadata": {
    "collapsed": true
   },
   "outputs": [],
   "source": []
  }
 ],
 "metadata": {
  "anaconda-cloud": {},
  "kernelspec": {
   "display_name": "Python [Root]",
   "language": "python",
   "name": "Python [Root]"
  },
  "language_info": {
   "codemirror_mode": {
    "name": "ipython",
    "version": 3
   },
   "file_extension": ".py",
   "mimetype": "text/x-python",
   "name": "python",
   "nbconvert_exporter": "python",
   "pygments_lexer": "ipython3",
   "version": "3.5.2"
  }
 },
 "nbformat": 4,
 "nbformat_minor": 0
}
